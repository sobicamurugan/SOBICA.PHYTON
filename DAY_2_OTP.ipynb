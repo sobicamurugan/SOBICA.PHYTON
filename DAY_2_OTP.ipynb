{
  "nbformat": 4,
  "nbformat_minor": 0,
  "metadata": {
    "colab": {
      "name": " DAY 2 OTP ",
      "provenance": [],
      "authorship_tag": "ABX9TyNgczsiH37gzag8ZSTDjEqK",
      "include_colab_link": true
    },
    "kernelspec": {
      "name": "python3",
      "display_name": "Python 3"
    },
    "language_info": {
      "name": "python"
    }
  },
  "cells": [
    {
      "cell_type": "markdown",
      "metadata": {
        "id": "view-in-github",
        "colab_type": "text"
      },
      "source": [
        "<a href=\"https://colab.research.google.com/github/sobicamurugan/SOBICA.PHYTON/blob/main/DAY_2_OTP.ipynb\" target=\"_parent\"><img src=\"https://colab.research.google.com/assets/colab-badge.svg\" alt=\"Open In Colab\"/></a>"
      ]
    },
    {
      "cell_type": "code",
      "metadata": {
        "colab": {
          "base_uri": "https://localhost:8080/"
        },
        "id": "WfTxld-uNaIq",
        "outputId": "4c430eee-c598-4d8d-b0f6-0a30715be043"
      },
      "source": [
        "#PROJECT :OTP\n",
        "import random\n",
        "import string\n",
        "length= 6\n",
        "otp= ''\n",
        "characters = string.ascii_letters+ string.digits\n",
        "for i in range(length):\n",
        "  otp = otp + random.choice(characters)\n",
        "print('OTP',otp)"
      ],
      "execution_count": null,
      "outputs": [
        {
          "output_type": "stream",
          "text": [
            "OTP du6P8S\n"
          ],
          "name": "stdout"
        }
      ]
    }
  ]
}