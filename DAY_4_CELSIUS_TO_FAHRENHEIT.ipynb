{
  "nbformat": 4,
  "nbformat_minor": 0,
  "metadata": {
    "colab": {
      "name": "DAY 4 CELSIUS TO FAHRENHEIT",
      "provenance": [],
      "authorship_tag": "ABX9TyNaZuSH04TW1mJv+1g98T+G",
      "include_colab_link": true
    },
    "kernelspec": {
      "name": "python3",
      "display_name": "Python 3"
    },
    "language_info": {
      "name": "python"
    }
  },
  "cells": [
    {
      "cell_type": "markdown",
      "metadata": {
        "id": "view-in-github",
        "colab_type": "text"
      },
      "source": [
        "<a href=\"https://colab.research.google.com/github/sobicamurugan/SOBICA.PHYTON/blob/main/DAY_4_CELSIUS_TO_FAHRENHEIT.ipynb\" target=\"_parent\"><img src=\"https://colab.research.google.com/assets/colab-badge.svg\" alt=\"Open In Colab\"/></a>"
      ]
    },
    {
      "cell_type": "code",
      "metadata": {
        "colab": {
          "base_uri": "https://localhost:8080/"
        },
        "id": "gdGIcdWmOUR6",
        "outputId": "752a63f7-b2cf-4219-d4fd-6ece46c778a6"
      },
      "source": [
        "celsius = float(input('Enter temperature in Celsius: '))  \n",
        "   \n",
        "fahrenheit = (celsius * 1.8) + 32  \n",
        "print('%0.1f  Celsius is equal to %0.1f degree Fahrenheit'%(celsius,fahrenheit))"
      ],
      "execution_count": null,
      "outputs": [
        {
          "output_type": "stream",
          "text": [
            "Enter temperature in Celsius: 90\n",
            "90.0  Celsius is equal to 194.0 degree Fahrenheit\n"
          ],
          "name": "stdout"
        }
      ]
    }
  ]
}