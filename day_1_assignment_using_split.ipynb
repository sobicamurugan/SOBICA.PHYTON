{
  "nbformat": 4,
  "nbformat_minor": 0,
  "metadata": {
    "colab": {
      "name": "day 1 assignment using split",
      "provenance": [],
      "authorship_tag": "ABX9TyNwAb7CHfkTXrJHJ5De55bf",
      "include_colab_link": true
    },
    "kernelspec": {
      "name": "python3",
      "display_name": "Python 3"
    },
    "language_info": {
      "name": "python"
    }
  },
  "cells": [
    {
      "cell_type": "markdown",
      "metadata": {
        "id": "view-in-github",
        "colab_type": "text"
      },
      "source": [
        "<a href=\"https://colab.research.google.com/github/sobicamurugan/SOBICA.PHYTON/blob/main/day_1_assignment_using_split.ipynb\" target=\"_parent\"><img src=\"https://colab.research.google.com/assets/colab-badge.svg\" alt=\"Open In Colab\"/></a>"
      ]
    },
    {
      "cell_type": "code",
      "metadata": {
        "id": "wu2AJHr1_MKI",
        "colab": {
          "base_uri": "https://localhost:8080/"
        },
        "outputId": "4ea9bde8-6701-4bb0-f1c0-1bc598c45905"
      },
      "source": [
        "x=[int (i) for i in input(\"enter values: \").split()]\n",
        "print(x)\n",
        "x.sort(reverse=True)\n",
        "print(x)"
      ],
      "execution_count": null,
      "outputs": [
        {
          "output_type": "stream",
          "text": [
            "enter values: 10 20 30 40 50 60\n",
            "[10, 20, 30, 40, 50, 60]\n",
            "[60, 50, 40, 30, 20, 10]\n"
          ],
          "name": "stdout"
        }
      ]
    }
  ]
}